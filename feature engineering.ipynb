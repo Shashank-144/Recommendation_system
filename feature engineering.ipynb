{
 "cells": [
  {
   "cell_type": "markdown",
   "metadata": {},
   "source": [
    "##### In this we are going to feature engineer the dataset and find some better feature before building a system out of it"
   ]
  },
  {
   "cell_type": "code",
   "execution_count": 10,
   "metadata": {},
   "outputs": [],
   "source": [
    "from sklearn.feature_extraction.text import TfidfVectorizer\n",
    "from sklearn.metrics.pairwise import cosine_similarity\n",
    "\n",
    "import pandas as pd\n",
    "import numpy as np"
   ]
  },
  {
   "cell_type": "code",
   "execution_count": 4,
   "metadata": {},
   "outputs": [],
   "source": [
    "amz_df=pd.read_csv(\"new_amz_data.csv\")"
   ]
  },
  {
   "cell_type": "code",
   "execution_count": 5,
   "metadata": {},
   "outputs": [],
   "source": [
    "vectorizer=TfidfVectorizer(stop_words=\"english\")"
   ]
  },
  {
   "cell_type": "code",
   "execution_count": 7,
   "metadata": {},
   "outputs": [],
   "source": [
    "tfidf_matrix=vectorizer.fit_transform(amz_df[\"clean_title\"])"
   ]
  },
  {
   "cell_type": "code",
   "execution_count": 8,
   "metadata": {},
   "outputs": [],
   "source": [
    "cosine_sim=cosine_similarity(tfidf_matrix,tfidf_matrix)"
   ]
  },
  {
   "cell_type": "code",
   "execution_count": 9,
   "metadata": {},
   "outputs": [
    {
     "name": "stdout",
     "output_type": "stream",
     "text": [
      "Similarity scores of first product with others:\n",
      "[1.         0.00481538 0.15025424 0.00341137 0.00329864 0.00306215\n",
      " 0.00765891 0.00289972 1.         0.00821135 0.05469769 0.02834813\n",
      " 0.05330002 0.         0.0037374  0.00618394 0.08980677 0.02645451\n",
      " 0.03656242 0.00308358 0.00496935 0.00636023 0.09441425 0.20981187\n",
      " 0.03008    0.00703799 0.00289972 0.05069734 0.00355215 0.00384223\n",
      " 0.25476908 0.00638049 0.18618965 0.06107542 0.04449024 0.00373105\n",
      " 0.00318918 0.0046205  0.00281417 0.14990807 0.00345794 0.00351907\n",
      " 0.00275179 0.04128685 0.2946929  0.05019038 0.00416776 0.\n",
      " 0.00376856 0.00750698 0.0065625  0.00662422 0.00416396 0.011169\n",
      " 0.00349871 0.00404963 0.00669021 0.00323828 0.00356563 0.00750845\n",
      " 0.00343188 0.08302376 0.03993449 0.13105818 1.         0.13792598\n",
      " 0.00289972 0.20981187 0.01910458]\n"
     ]
    }
   ],
   "source": [
    "print(\"Similarity scores of first product with others:\")\n",
    "print(cosine_sim[0])"
   ]
  },
  {
   "cell_type": "code",
   "execution_count": 11,
   "metadata": {},
   "outputs": [],
   "source": [
    "import numpy as np\n",
    "np.save(\"cosine_similarity_matrix.npy\", cosine_sim)"
   ]
  },
  {
   "cell_type": "code",
   "execution_count": 12,
   "metadata": {},
   "outputs": [],
   "source": [
    "amz_df=pd.read_csv(\"new_amz_data.csv\")"
   ]
  },
  {
   "cell_type": "code",
   "execution_count": 13,
   "metadata": {},
   "outputs": [],
   "source": [
    "cosine_sim=np.load(\"cosine_similarity_matrix.npy\")"
   ]
  },
  {
   "cell_type": "markdown",
   "metadata": {},
   "source": [
    "##### We will now try to recommend products with the help of our cosine similarity that we got"
   ]
  },
  {
   "cell_type": "code",
   "execution_count": 16,
   "metadata": {},
   "outputs": [
    {
     "name": "stdout",
     "output_type": "stream",
     "text": [
      "Top recommendations for 'binnune wireless gaming headset with microphone for pc ps4 ps5 24g wireless bluetooth usb gamer headphones with mic for laptop computer':\n",
      "49    24ghz wireless gaming headset for pc ps5 ps4 l...\n",
      "59    24ghz wireless gaming headset for ps5 ps4 fort...\n",
      "6     gaming headset for pc ps4 ps5 xbox headset wit...\n",
      "14    bengoo g9000 stereo gaming headset for ps4 pc ...\n",
      "57    turtle beach stealth 700 gen 3 wireless multip...\n",
      "Name: clean_title, dtype: object\n"
     ]
    }
   ],
   "source": [
    "def recommend_products(product_title,num_recommendations=5):\n",
    "    idx=amz_df[amz_df[\"clean_title\"]==product_title].index[0]\n",
    "\n",
    "    sim_scores=list(enumerate(cosine_sim[idx]))\n",
    "\n",
    "    sim_scores=sorted(sim_scores,key=lambda x: x[1],reverse=True)[1:num_recommendations+1]\n",
    "\n",
    "    product_indices=[i[0] for i in sim_scores]\n",
    "\n",
    "    return amz_df[\"clean_title\"].iloc[product_indices]\n",
    "\n",
    "\n",
    "product_name=amz_df[\"clean_title\"].iloc[1]\n",
    "\n",
    "recommended_products=recommend_products(product_name)\n",
    "\n",
    "print(f\"Top recommendations for '{product_name}':\")\n",
    "print(recommended_products)"
   ]
  },
  {
   "cell_type": "code",
   "execution_count": 19,
   "metadata": {},
   "outputs": [
    {
     "name": "stdout",
     "output_type": "stream",
     "text": [
      "title                object\n",
      "price               float64\n",
      "rating              float64\n",
      "review count        float64\n",
      "best seller rank    float64\n",
      "trust_score         float64\n",
      "clean_title          object\n",
      "dtype: object\n"
     ]
    }
   ],
   "source": [
    "print(amz_df.dtypes)"
   ]
  },
  {
   "cell_type": "code",
   "execution_count": null,
   "metadata": {},
   "outputs": [],
   "source": []
  }
 ],
 "metadata": {
  "kernelspec": {
   "display_name": "Python 3",
   "language": "python",
   "name": "python3"
  },
  "language_info": {
   "codemirror_mode": {
    "name": "ipython",
    "version": 3
   },
   "file_extension": ".py",
   "mimetype": "text/x-python",
   "name": "python",
   "nbconvert_exporter": "python",
   "pygments_lexer": "ipython3",
   "version": "3.12.7"
  }
 },
 "nbformat": 4,
 "nbformat_minor": 2
}
