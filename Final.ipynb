{
 "cells": [
  {
   "cell_type": "code",
   "execution_count": 2,
   "metadata": {},
   "outputs": [],
   "source": [
    "from bs4 import BeautifulSoup\n",
    "import pandas as pd\n",
    "import requests\n",
    "import numpy as np"
   ]
  },
  {
   "cell_type": "code",
   "execution_count": null,
   "metadata": {},
   "outputs": [],
   "source": [
    "# Getting the title of the product\n",
    "\n",
    "def get_title(soup):\n",
    "    \n",
    "    try:\n",
    "        title = soup.find('id',attrs={\"id\":\"productTitle\"})\n",
    "\n",
    "        title_value=title.text\n",
    "        title_string=title_value.strip()\n",
    "\n",
    "    except:\n",
    "        title_string=\"\"\n",
    "    \n",
    "    return title_string"
   ]
  },
  {
   "cell_type": "code",
   "execution_count": 7,
   "metadata": {},
   "outputs": [],
   "source": [
    "# Getting the price of the product\n",
    "\n",
    "def get_price(soup):\n",
    "\n",
    "    try:\n",
    "        price = soup.find('span',attrs={'id':'priceblock_ourprice'}).string.strip()\n",
    "\n",
    "    except AttributeError:\n",
    "\n",
    "        try:\n",
    "            price = soup.find('span',attrs={'id':'priceblock_dealprice'}).string.strip() # if there are some discount\n",
    "        \n",
    "        except:\n",
    "            price=\"\"\n",
    "        \n",
    "    return price"
   ]
  },
  {
   "cell_type": "code",
   "execution_count": 8,
   "metadata": {},
   "outputs": [],
   "source": [
    "# Getting the rating of the product\n",
    "\n",
    "def get_rating(soup):\n",
    "    try:\n",
    "        rating =soup.find(\"i\",attrs={\"class\":\"a-icon a-icon-star a-star-4-5 cm-cr-review-stars-spacing-big\"})\n",
    "\n",
    "    except AttributeError:\n",
    "        try:\n",
    "            rating=soup.find(\"span\",attrs={\"class\":\"a-icon-alt\"}).string.strip()\n",
    "        \n",
    "        except:\n",
    "            rating=\"\"\n",
    "\n",
    "    return rating"
   ]
  },
  {
   "cell_type": "code",
   "execution_count": 9,
   "metadata": {},
   "outputs": [],
   "source": [
    "# Getting the number of people who gave ratings\n",
    "\n",
    "def get_review_count(soup):\n",
    "    try:\n",
    "        review_count=soup.find(\"span\",attrs={\"id\":\"acrCustomerReviewText\"}).string.strip()\n",
    "\n",
    "    except ArithmeticError:\n",
    "        review_count=\"\"\n",
    "\n",
    "    return review_count"
   ]
  },
  {
   "cell_type": "code",
   "execution_count": 10,
   "metadata": {},
   "outputs": [],
   "source": [
    "# Getting the availability of the product\n",
    "\n",
    "def get_availablity(soup):\n",
    "    try:\n",
    "        available=soup.find(\"div\",attrs={\"id\":\"availability\"})\n",
    "        available=available.find(\"span\").string.strip()\n",
    "\n",
    "    except AttributeError:\n",
    "        available=\"Not Available\"\n",
    "\n",
    "    return available\n"
   ]
  },
  {
   "cell_type": "code",
   "execution_count": null,
   "metadata": {},
   "outputs": [],
   "source": [
    "if __name__=='__main__':\n",
    "\n",
    "    main_url=\"https://www.amazon.com/s?k=gaming\"\n",
    "\n",
    "    webpage_1=requests.get(main_url)\n",
    "\n",
    "    soup=BeautifulSoup(webpage_1.content,'html.parser')\n",
    "\n"
   ]
  }
 ],
 "metadata": {
  "kernelspec": {
   "display_name": "Python 3",
   "language": "python",
   "name": "python3"
  },
  "language_info": {
   "codemirror_mode": {
    "name": "ipython",
    "version": 3
   },
   "file_extension": ".py",
   "mimetype": "text/x-python",
   "name": "python",
   "nbconvert_exporter": "python",
   "pygments_lexer": "ipython3",
   "version": "3.12.7"
  }
 },
 "nbformat": 4,
 "nbformat_minor": 2
}
