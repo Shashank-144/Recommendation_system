{
 "cells": [
  {
   "cell_type": "code",
   "execution_count": 11,
   "metadata": {},
   "outputs": [],
   "source": [
    "import pandas as pd\n",
    "import numpy as np\n",
    "import re"
   ]
  },
  {
   "cell_type": "code",
   "execution_count": 2,
   "metadata": {},
   "outputs": [],
   "source": [
    "amz_df=pd.read_csv(\"new_amz_data.csv\")"
   ]
  },
  {
   "cell_type": "code",
   "execution_count": 3,
   "metadata": {},
   "outputs": [],
   "source": [
    "amz_df['trust_score']=amz_df['rating']*np.log1p(amz_df['review count'])\n"
   ]
  },
  {
   "cell_type": "code",
   "execution_count": 4,
   "metadata": {},
   "outputs": [],
   "source": [
    "threshold=amz_df['trust_score'].mean()"
   ]
  },
  {
   "cell_type": "code",
   "execution_count": 5,
   "metadata": {},
   "outputs": [
    {
     "name": "stdout",
     "output_type": "stream",
     "text": [
      "32.37319868350831\n"
     ]
    }
   ],
   "source": [
    "print(threshold)"
   ]
  },
  {
   "cell_type": "markdown",
   "metadata": {},
   "source": [
    "##### Normalizing w.r.t trust score\n"
   ]
  },
  {
   "cell_type": "code",
   "execution_count": 7,
   "metadata": {},
   "outputs": [
    {
     "name": "stderr",
     "output_type": "stream",
     "text": [
      "C:\\Users\\17385\\AppData\\Local\\Temp\\ipykernel_17436\\3834731921.py:11: FutureWarning: Setting an item of incompatible dtype is deprecated and will raise in a future error of pandas. Value '[3.30000000e+01 5.95202381e-02 2.67000000e+02 3.40000000e+01\n",
      " 8.00000000e+00 1.20000000e+01 2.12400850e-02 4.98601994e-03\n",
      " 3.30000000e+01 1.11174445e-01 6.60000000e+01 3.60000000e+01\n",
      " 3.61861447e-02 1.00000000e+00 6.41690567e-01 1.53000000e+02\n",
      " 1.56426626e-01 3.82000000e+02 1.46000000e+02 1.66300000e+03\n",
      " 4.83397934e-01 4.57501830e-02 1.10400442e-03 2.70000000e+01\n",
      " 9.40000000e+01 4.10000000e+01 4.98601994e-03 3.05401222e-02\n",
      " 2.56261025e-02 1.14606458e-01 1.70000000e+01 2.25000900e-02\n",
      " 8.20000000e+01 6.72602690e-03 6.52000000e+02 3.14689259e-01\n",
      " 1.33900000e+03 6.75362701e-02 1.16000000e+02 2.36196945e-01\n",
      " 4.45000000e+02 2.00000000e+00 1.07040428e-02 1.43900000e+03\n",
      " 1.66992668e-01 8.09403238e-03 1.30644523e-01 8.67603470e-03\n",
      " 1.85028740e-01 3.77581510e-02 6.74882700e-02 3.61021444e-02\n",
      " 6.79022716e-02 2.68741075e-01 2.63641055e-02 9.36603746e-03\n",
      " 4.33495734e-01 3.68000000e+02 2.92861171e-02 4.42201769e-02\n",
      " 5.19602078e-03 0.00000000e+00 4.99141997e-02 7.76403106e-03\n",
      " 3.30000000e+01 1.50000000e+01 4.98601994e-03 2.70000000e+01\n",
      " 2.46000984e-03]' has dtype incompatible with int64, please explicitly cast to a compatible dtype first.\n",
      "  amz_df.update(trustworthy_df)\n",
      "C:\\Users\\17385\\AppData\\Local\\Temp\\ipykernel_17436\\3834731921.py:11: FutureWarning: Setting an item of incompatible dtype is deprecated and will raise in a future error of pandas. Value '[7.65000000e+02 1.41686183e-01 4.00000000e+00 6.82000000e+02\n",
      " 5.97000000e+02 4.78000000e+02 1.99063232e-02 1.87353630e-02\n",
      " 7.65000000e+02 5.73770492e-01 2.30000000e+01 2.10000000e+01\n",
      " 4.80093677e-01 3.51288056e-03 1.52224824e-02 1.60000000e+01\n",
      " 4.80093677e-02 2.00000000e+00 1.00000000e+00 3.90000000e+02\n",
      " 5.73770492e-02 8.74707260e-01 5.85480094e-03 1.30000000e+01\n",
      " 7.00000000e+00 1.34000000e+02 1.87353630e-02 1.17096019e-03\n",
      " 1.17096019e-03 1.05386417e-01 4.24000000e+02 7.25995316e-02\n",
      " 0.00000000e+00 1.19437939e-01 1.00000000e+00 2.45901639e-02\n",
      " 6.76000000e+02 1.70960187e-01 6.11000000e+02 0.00000000e+00\n",
      " 6.03000000e+02 2.00000000e+00 4.13348946e-01 8.00000000e+00\n",
      " 1.17096019e-03 8.93442623e-01 3.44262295e-01 1.52224824e-02\n",
      " 1.85011710e-01 2.34192037e-02 2.38875878e-01 7.49414520e-02\n",
      " 1.62763466e-01 9.48477752e-02 1.00000000e+00 3.45433255e-01\n",
      " 1.38173302e-01 1.42000000e+02 3.04449649e-02 2.81030445e-02\n",
      " 3.85245902e-01 8.73536300e-01 9.83606557e-02 8.19672131e-03\n",
      " 7.65000000e+02 7.27000000e+02 1.87353630e-02 1.30000000e+01\n",
      " 1.17096019e-02]' has dtype incompatible with int64, please explicitly cast to a compatible dtype first.\n",
      "  amz_df.update(trustworthy_df)\n"
     ]
    }
   ],
   "source": [
    "from sklearn.preprocessing import MinMaxScaler\n",
    "\n",
    "trustworthy_df=amz_df[amz_df['trust_score']>=threshold].copy()\n",
    "\n",
    "columns_to_normalize=['price','rating','review count','best seller rank']\n",
    "\n",
    "scaler=MinMaxScaler()\n",
    "\n",
    "trustworthy_df[columns_to_normalize]=scaler.fit_transform(trustworthy_df[columns_to_normalize])\n",
    "\n",
    "amz_df.update(trustworthy_df)"
   ]
  },
  {
   "cell_type": "code",
   "execution_count": 8,
   "metadata": {},
   "outputs": [],
   "source": [
    "amz_df.to_csv(\"new_amz_data.csv\",index=False)"
   ]
  },
  {
   "cell_type": "code",
   "execution_count": 9,
   "metadata": {},
   "outputs": [],
   "source": [
    "amz_df=pd.read_csv(\"new_amz_data.csv\")"
   ]
  },
  {
   "cell_type": "code",
   "execution_count": 13,
   "metadata": {},
   "outputs": [],
   "source": [
    "def clean_text(text):\n",
    "    text=text.lower()\n",
    "    text=re.sub(r\"[^a-zA-Z0-9\\s]\",\"\",text)\n",
    "    text=re.sub(r\"\\s+\",\" \",text).strip()\n",
    "\n",
    "    return text"
   ]
  },
  {
   "cell_type": "code",
   "execution_count": 20,
   "metadata": {},
   "outputs": [],
   "source": [
    "amz_df.drop(columns=\"Title\",inplace=True)"
   ]
  },
  {
   "cell_type": "code",
   "execution_count": 21,
   "metadata": {},
   "outputs": [
    {
     "data": {
      "text/html": [
       "<div>\n",
       "<style scoped>\n",
       "    .dataframe tbody tr th:only-of-type {\n",
       "        vertical-align: middle;\n",
       "    }\n",
       "\n",
       "    .dataframe tbody tr th {\n",
       "        vertical-align: top;\n",
       "    }\n",
       "\n",
       "    .dataframe thead th {\n",
       "        text-align: right;\n",
       "    }\n",
       "</style>\n",
       "<table border=\"1\" class=\"dataframe\">\n",
       "  <thead>\n",
       "    <tr style=\"text-align: right;\">\n",
       "      <th></th>\n",
       "      <th>title</th>\n",
       "      <th>price</th>\n",
       "      <th>rating</th>\n",
       "      <th>review count</th>\n",
       "      <th>best seller rank</th>\n",
       "      <th>trust_score</th>\n",
       "      <th>clean_title</th>\n",
       "    </tr>\n",
       "  </thead>\n",
       "  <tbody>\n",
       "    <tr>\n",
       "      <th>0</th>\n",
       "      <td>NB North Bayou Heavy Duty Dual Monitor Arm Des...</td>\n",
       "      <td>55.000000</td>\n",
       "      <td>4.200</td>\n",
       "      <td>33.000000</td>\n",
       "      <td>765.000000</td>\n",
       "      <td>14.810714</td>\n",
       "      <td>nb north bayou heavy duty dual monitor arm des...</td>\n",
       "    </tr>\n",
       "    <tr>\n",
       "      <th>1</th>\n",
       "      <td>BINNUNE Wireless Gaming Headset with Microphon...</td>\n",
       "      <td>0.024458</td>\n",
       "      <td>0.375</td>\n",
       "      <td>0.059520</td>\n",
       "      <td>0.141686</td>\n",
       "      <td>40.177681</td>\n",
       "      <td>binnune wireless gaming headset with microphon...</td>\n",
       "    </tr>\n",
       "    <tr>\n",
       "      <th>2</th>\n",
       "      <td>Portable Monitor 18.5 inch 1080P FHD 100Hz 125...</td>\n",
       "      <td>0.000000</td>\n",
       "      <td>4.800</td>\n",
       "      <td>267.000000</td>\n",
       "      <td>4.000000</td>\n",
       "      <td>26.836738</td>\n",
       "      <td>portable monitor 185 inch 1080p fhd 100hz 125 ...</td>\n",
       "    </tr>\n",
       "    <tr>\n",
       "      <th>3</th>\n",
       "      <td>Project Telecom Marconi Wireless HD 1080p Webc...</td>\n",
       "      <td>1049.000000</td>\n",
       "      <td>4.000</td>\n",
       "      <td>34.000000</td>\n",
       "      <td>682.000000</td>\n",
       "      <td>14.221392</td>\n",
       "      <td>project telecom marconi wireless hd 1080p webc...</td>\n",
       "    </tr>\n",
       "    <tr>\n",
       "      <th>4</th>\n",
       "      <td>2025 Gaming Laptop, Laptop with AMD Ryzen 9 69...</td>\n",
       "      <td>1377.000000</td>\n",
       "      <td>5.000</td>\n",
       "      <td>8.000000</td>\n",
       "      <td>597.000000</td>\n",
       "      <td>10.986123</td>\n",
       "      <td>2025 gaming laptop laptop with amd ryzen 9 690...</td>\n",
       "    </tr>\n",
       "    <tr>\n",
       "      <th>...</th>\n",
       "      <td>...</td>\n",
       "      <td>...</td>\n",
       "      <td>...</td>\n",
       "      <td>...</td>\n",
       "      <td>...</td>\n",
       "      <td>...</td>\n",
       "      <td>...</td>\n",
       "    </tr>\n",
       "    <tr>\n",
       "      <th>64</th>\n",
       "      <td>NB North Bayou Heavy Duty Dual Monitor Arm Des...</td>\n",
       "      <td>55.000000</td>\n",
       "      <td>4.200</td>\n",
       "      <td>33.000000</td>\n",
       "      <td>765.000000</td>\n",
       "      <td>14.810714</td>\n",
       "      <td>nb north bayou heavy duty dual monitor arm des...</td>\n",
       "    </tr>\n",
       "    <tr>\n",
       "      <th>65</th>\n",
       "      <td>Wallhack Gaming Arm Sleeve | Frenzy Sora | Esp...</td>\n",
       "      <td>0.000000</td>\n",
       "      <td>4.000</td>\n",
       "      <td>15.000000</td>\n",
       "      <td>727.000000</td>\n",
       "      <td>11.090355</td>\n",
       "      <td>wallhack gaming arm sleeve frenzy sora esports...</td>\n",
       "    </tr>\n",
       "    <tr>\n",
       "      <th>66</th>\n",
       "      <td>KeiBn Laptop Cooling Pad, Gaming Laptop Fan Co...</td>\n",
       "      <td>0.000000</td>\n",
       "      <td>0.375</td>\n",
       "      <td>0.004986</td>\n",
       "      <td>0.018735</td>\n",
       "      <td>33.353480</td>\n",
       "      <td>keibn laptop cooling pad gaming laptop fan coo...</td>\n",
       "    </tr>\n",
       "    <tr>\n",
       "      <th>67</th>\n",
       "      <td>InnoView 23.8\" FHD 100Hz 100% sRGB Dual Monito...</td>\n",
       "      <td>0.000000</td>\n",
       "      <td>4.300</td>\n",
       "      <td>27.000000</td>\n",
       "      <td>13.000000</td>\n",
       "      <td>14.328479</td>\n",
       "      <td>innoview 238 fhd 100hz 100 srgb dual monitor 3...</td>\n",
       "    </tr>\n",
       "    <tr>\n",
       "      <th>68</th>\n",
       "      <td>EMEET NOVA 4K Webcam for PC - Ultra 4K HD, PDA...</td>\n",
       "      <td>1.000000</td>\n",
       "      <td>0.500</td>\n",
       "      <td>0.002460</td>\n",
       "      <td>0.011710</td>\n",
       "      <td>33.255178</td>\n",
       "      <td>emeet nova 4k webcam for pc ultra 4k hd pdaf a...</td>\n",
       "    </tr>\n",
       "  </tbody>\n",
       "</table>\n",
       "<p>69 rows × 7 columns</p>\n",
       "</div>"
      ],
      "text/plain": [
       "                                                title        price  rating  \\\n",
       "0   NB North Bayou Heavy Duty Dual Monitor Arm Des...    55.000000   4.200   \n",
       "1   BINNUNE Wireless Gaming Headset with Microphon...     0.024458   0.375   \n",
       "2   Portable Monitor 18.5 inch 1080P FHD 100Hz 125...     0.000000   4.800   \n",
       "3   Project Telecom Marconi Wireless HD 1080p Webc...  1049.000000   4.000   \n",
       "4   2025 Gaming Laptop, Laptop with AMD Ryzen 9 69...  1377.000000   5.000   \n",
       "..                                                ...          ...     ...   \n",
       "64  NB North Bayou Heavy Duty Dual Monitor Arm Des...    55.000000   4.200   \n",
       "65  Wallhack Gaming Arm Sleeve | Frenzy Sora | Esp...     0.000000   4.000   \n",
       "66  KeiBn Laptop Cooling Pad, Gaming Laptop Fan Co...     0.000000   0.375   \n",
       "67  InnoView 23.8\" FHD 100Hz 100% sRGB Dual Monito...     0.000000   4.300   \n",
       "68  EMEET NOVA 4K Webcam for PC - Ultra 4K HD, PDA...     1.000000   0.500   \n",
       "\n",
       "    review count  best seller rank  trust_score  \\\n",
       "0      33.000000        765.000000    14.810714   \n",
       "1       0.059520          0.141686    40.177681   \n",
       "2     267.000000          4.000000    26.836738   \n",
       "3      34.000000        682.000000    14.221392   \n",
       "4       8.000000        597.000000    10.986123   \n",
       "..           ...               ...          ...   \n",
       "64     33.000000        765.000000    14.810714   \n",
       "65     15.000000        727.000000    11.090355   \n",
       "66      0.004986          0.018735    33.353480   \n",
       "67     27.000000         13.000000    14.328479   \n",
       "68      0.002460          0.011710    33.255178   \n",
       "\n",
       "                                          clean_title  \n",
       "0   nb north bayou heavy duty dual monitor arm des...  \n",
       "1   binnune wireless gaming headset with microphon...  \n",
       "2   portable monitor 185 inch 1080p fhd 100hz 125 ...  \n",
       "3   project telecom marconi wireless hd 1080p webc...  \n",
       "4   2025 gaming laptop laptop with amd ryzen 9 690...  \n",
       "..                                                ...  \n",
       "64  nb north bayou heavy duty dual monitor arm des...  \n",
       "65  wallhack gaming arm sleeve frenzy sora esports...  \n",
       "66  keibn laptop cooling pad gaming laptop fan coo...  \n",
       "67  innoview 238 fhd 100hz 100 srgb dual monitor 3...  \n",
       "68  emeet nova 4k webcam for pc ultra 4k hd pdaf a...  \n",
       "\n",
       "[69 rows x 7 columns]"
      ]
     },
     "execution_count": 21,
     "metadata": {},
     "output_type": "execute_result"
    }
   ],
   "source": [
    "amz_df"
   ]
  },
  {
   "cell_type": "code",
   "execution_count": 22,
   "metadata": {},
   "outputs": [],
   "source": [
    "amz_df.to_csv(\"new_amz_data.csv\",index=False)"
   ]
  },
  {
   "cell_type": "code",
   "execution_count": null,
   "metadata": {},
   "outputs": [],
   "source": []
  }
 ],
 "metadata": {
  "kernelspec": {
   "display_name": "Python 3",
   "language": "python",
   "name": "python3"
  },
  "language_info": {
   "codemirror_mode": {
    "name": "ipython",
    "version": 3
   },
   "file_extension": ".py",
   "mimetype": "text/x-python",
   "name": "python",
   "nbconvert_exporter": "python",
   "pygments_lexer": "ipython3",
   "version": "3.12.7"
  }
 },
 "nbformat": 4,
 "nbformat_minor": 2
}
